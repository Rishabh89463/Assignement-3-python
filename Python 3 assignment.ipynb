{
 "cells": [
  {
   "cell_type": "code",
   "execution_count": 1,
   "id": "a2b45706-4b18-4825-9b7f-9d31b24eebc7",
   "metadata": {},
   "outputs": [],
   "source": [
    "# 1. Why are functions advantageous to have in your programs?"
   ]
  },
  {
   "cell_type": "code",
   "execution_count": 2,
   "id": "27ca2835-17e5-4521-9742-4d459e5c3b57",
   "metadata": {},
   "outputs": [],
   "source": [
    "# Functions are advantageous in programming because they provide modularity, allowing code to be broken into smaller, manageable pieces, which improves understanding and maintenance. They enable reusability, reducing redundancy and effort by allowing code to be reused in different parts of a program. Functions enhance abstraction, hiding complex operations behind simple interfaces. They improve organization, making code more readable, and facilitate testing and debugging. Functions also simplify maintenance, support scalability, and enhance memory efficiency."
   ]
  },
  {
   "cell_type": "code",
   "execution_count": 3,
   "id": "947fa071-105e-444f-8e2a-1974f6516077",
   "metadata": {},
   "outputs": [],
   "source": [
    "# 2. When does the code in a function run: when it&#39;s specified or when it&#39;s called?"
   ]
  },
  {
   "cell_type": "code",
   "execution_count": 4,
   "id": "749236f6-29ca-4309-913b-37975834a869",
   "metadata": {},
   "outputs": [],
   "source": [
    "\n",
    "# The code in a function runs when the function is called, not when it is specified."
   ]
  },
  {
   "cell_type": "code",
   "execution_count": 5,
   "id": "152dd6e5-852e-40cc-9202-86af057b2914",
   "metadata": {},
   "outputs": [],
   "source": [
    "# 3. What statement creates a function?"
   ]
  },
  {
   "cell_type": "code",
   "execution_count": 11,
   "id": "6ca3da79-de01-45c1-8404-94bb09479293",
   "metadata": {},
   "outputs": [],
   "source": [
    "#The def statement creates a function in Python. For example:\n",
    "#def my_function():\n",
    "  \n"
   ]
  },
  {
   "cell_type": "code",
   "execution_count": 13,
   "id": "cb1855c5-5d99-48da-87dc-f1ea90328cdb",
   "metadata": {},
   "outputs": [
    {
     "name": "stdout",
     "output_type": "stream",
     "text": [
      "Hello, world!\n"
     ]
    }
   ],
   "source": [
    "# Function: A block of code defined to perform a specific task, created using the def statement. For example:\n",
    "\n",
    "def my_function():\n",
    "    print(\"Hello, world!\")\n",
    "\n",
    "# Function Call: The process of executing the code within a function by using its name followed by parentheses. For example:\n",
    "\n",
    "my_function()\n"
   ]
  },
  {
   "cell_type": "code",
   "execution_count": 14,
   "id": "763c2dcd-c358-4463-84ee-f00f75c896ef",
   "metadata": {},
   "outputs": [],
   "source": [
    "# How many global scopes are there in a Python program? How many local scopes?\n",
    "\n"
   ]
  },
  {
   "cell_type": "code",
   "execution_count": 15,
   "id": "3c358491-4192-4d1f-add0-5d197ffc4d8f",
   "metadata": {},
   "outputs": [],
   "source": [
    "# In a Python program, there is only one global scope. This global scope is created when the program starts and exists until the program terminates.\n",
    "\n",
    "# The number of local scopes, however, can vary. Each time a function is called, a new local scope is created. This means the number of local scopes depends on how many functions are called and how many times they are called during the program's execution."
   ]
  },
  {
   "cell_type": "code",
   "execution_count": 16,
   "id": "d4022cb4-b152-4df0-a3e8-1ce0a4d54f2d",
   "metadata": {},
   "outputs": [],
   "source": [
    "# 6. What happens to variables in a local scope when the function call returns?"
   ]
  },
  {
   "cell_type": "code",
   "execution_count": 17,
   "id": "bf1be370-6b9c-4744-81e4-544b5d532d29",
   "metadata": {},
   "outputs": [],
   "source": [
    "# When a function call returns, the local scope created for that function call is destroyed, and all the variables defined within that local scope are discarded. This means the variables in the local scope cease to exist, and their memory is freed."
   ]
  },
  {
   "cell_type": "code",
   "execution_count": 18,
   "id": "7c3f6b94-6d4d-4929-93c8-5c84dcfc905e",
   "metadata": {},
   "outputs": [],
   "source": [
    "# 7. What is the concept of a return value? Is it possible to have a return value in an expression?"
   ]
  },
  {
   "cell_type": "code",
   "execution_count": 19,
   "id": "b2fbd59b-9d96-4f16-a5d9-e9cab4fb4791",
   "metadata": {},
   "outputs": [],
   "source": [
    "# A return value is the value that a function provides back to the caller when it completes its execution. This value is specified using the return statement in the function.\n",
    "\n",
    "# Yes, it is possible to have a return value in an expression. For example, if a function returns a value, that value can be used directly in an expression:\n",
    "\n",
    "def add(a, b):\n",
    "    return a + b\n",
    "\n",
    "result = add(3, 4) * 2  # The return value of add(3, 4) is 7, so result is 14\n"
   ]
  },
  {
   "cell_type": "code",
   "execution_count": 20,
   "id": "9b1d0efc-0426-498b-bf67-8c3dc47a5598",
   "metadata": {},
   "outputs": [],
   "source": [
    "# 8. If a function does not have a return statement, what is the return value of a call to that function?\n",
    "\n"
   ]
  },
  {
   "cell_type": "code",
   "execution_count": 21,
   "id": "8b90dd70-c1d6-4ec2-9d85-74724062c9dd",
   "metadata": {},
   "outputs": [],
   "source": [
    "\n",
    "# If a function does not have a return statement, it implicitly returns None. This means that if you call such a function, the return value will be None."
   ]
  },
  {
   "cell_type": "code",
   "execution_count": 22,
   "id": "ba719c70-bf9a-4957-af03-3e2d520e89de",
   "metadata": {},
   "outputs": [],
   "source": [
    "# 9. How do you make a function variable refer to the global variable?"
   ]
  },
  {
   "cell_type": "code",
   "execution_count": 23,
   "id": "259bbfb5-0d67-494f-b2e5-17f34a35da90",
   "metadata": {},
   "outputs": [
    {
     "name": "stdout",
     "output_type": "stream",
     "text": [
      "20\n"
     ]
    }
   ],
   "source": [
    "# To make a function variable refer to a global variable, you use the global keyword within the function. This indicates that the variable being modified inside the function is the same as the global variable outside it. For example:\n",
    "\n",
    "x = 10  # Global variable\n",
    "\n",
    "def modify_global():\n",
    "    global x\n",
    "    x = 20  # Modify the global variable\n",
    "\n",
    "modify_global()\n",
    "print(x)  # Output: 20\n"
   ]
  },
  {
   "cell_type": "code",
   "execution_count": 24,
   "id": "4fb781b1-ef13-4e8c-8fe3-95ce3a840360",
   "metadata": {},
   "outputs": [],
   "source": [
    "# 10. What is the data type of None?"
   ]
  },
  {
   "cell_type": "code",
   "execution_count": 25,
   "id": "4cece561-ff95-4b86-a91c-4f02e0caa2ff",
   "metadata": {},
   "outputs": [],
   "source": [
    "# The data type of None is NoneType. It represents the absence of a value or a null value in Python."
   ]
  },
  {
   "cell_type": "code",
   "execution_count": 26,
   "id": "348abd20-2876-4f59-a7ca-d8a565d09dee",
   "metadata": {},
   "outputs": [],
   "source": [
    "# 11. What does the sentence import areallyourpetsnamederic do?"
   ]
  },
  {
   "cell_type": "code",
   "execution_count": 27,
   "id": "1555cb48-85ea-4350-9a50-3672aad9faee",
   "metadata": {},
   "outputs": [],
   "source": [
    "# The sentence import areallyourpetsnamederic attempts to import a module named areallyourpetsnamederic. If such a module exists and is available in your Python environment, it will be imported, allowing you to use its functions, classes, and variables. If the module does not exist, Python will raise an ImportError."
   ]
  },
  {
   "cell_type": "code",
   "execution_count": 28,
   "id": "119ba4de-76a1-4e40-9ad9-cd6cdda470a9",
   "metadata": {},
   "outputs": [],
   "source": [
    "# 12. If you had a bacon() feature in a spam module, what would you call it after importing spam?"
   ]
  },
  {
   "cell_type": "code",
   "execution_count": 30,
   "id": "46d7d9be-4457-437c-9097-8cdd7f69d00f",
   "metadata": {},
   "outputs": [],
   "source": [
    "# After importing the spam module, you would call the bacon() feature using the module name followed by a dot and the function name. For example:\n",
    "\n",
    "# import spam\n",
    "# spam.bacon()\n"
   ]
  },
  {
   "cell_type": "code",
   "execution_count": 31,
   "id": "6b128cd8-507a-4e92-864b-48e6ebf9c390",
   "metadata": {},
   "outputs": [],
   "source": [
    "# 13. What can you do to save a programme from crashing if it encounters an error?"
   ]
  },
  {
   "cell_type": "code",
   "execution_count": 32,
   "id": "ffc17270-6ad3-4211-817b-14c86e9bb2b4",
   "metadata": {},
   "outputs": [
    {
     "name": "stdout",
     "output_type": "stream",
     "text": [
      "Cannot divide by zero.\n"
     ]
    }
   ],
   "source": [
    "# To save a program from crashing when it encounters an error, you can use exception handling. In Python, this is typically done with a try and except block. Here’s a basic example:\n",
    "\n",
    "try:\n",
    "    # Code that might raise an error\n",
    "    result = 10 / 0\n",
    "except ZeroDivisionError:\n",
    "    # Code to handle the error\n",
    "    print(\"Cannot divide by zero.\")\n",
    "\n",
    "    \n",
    "# In this example, if an error occurs inside the try block, the program will handle it gracefully without crashing by executing the code in the except block. You can also handle multiple types of exceptions and add optional else and finally blocks for additional control over the program flow.    "
   ]
  },
  {
   "cell_type": "code",
   "execution_count": 33,
   "id": "3754ebd8-a60d-45c3-95fa-a43f63726982",
   "metadata": {},
   "outputs": [],
   "source": [
    "# 14. What is the purpose of the try clause? What is the purpose of the except clause?"
   ]
  },
  {
   "cell_type": "code",
   "execution_count": 34,
   "id": "0514c767-90b3-4411-8575-d0536589938c",
   "metadata": {},
   "outputs": [],
   "source": [
    "# Purpose of the try clause: The try clause is used to define a block of code that might raise an exception. It allows you to test a block of code for errors and handle them if they occur. Code inside the try block is executed, and if an error occurs, the control is transferred to the corresponding except block.\n",
    "\n",
    "# Purpose of the except clause: The except clause is used to handle exceptions that are raised in the try block. It allows you to define how to respond to specific errors and prevent the program from crashing. You can catch and handle different types of exceptions, and provide an appropriate response or recovery mechanism."
   ]
  },
  {
   "cell_type": "code",
   "execution_count": null,
   "id": "42b27cd8-5320-401c-ac88-d89f8f701f9a",
   "metadata": {},
   "outputs": [],
   "source": []
  }
 ],
 "metadata": {
  "kernelspec": {
   "display_name": "Python 3 (ipykernel)",
   "language": "python",
   "name": "python3"
  },
  "language_info": {
   "codemirror_mode": {
    "name": "ipython",
    "version": 3
   },
   "file_extension": ".py",
   "mimetype": "text/x-python",
   "name": "python",
   "nbconvert_exporter": "python",
   "pygments_lexer": "ipython3",
   "version": "3.10.8"
  }
 },
 "nbformat": 4,
 "nbformat_minor": 5
}
